{
 "cells": [
  {
   "cell_type": "code",
   "execution_count": 5,
   "metadata": {},
   "outputs": [
    {
     "data": {
      "image/png": "[encoded data removed]",
      "text/plain": [
       "<Figure size 432x288 with 1 Axes>"
      ]
     },
     "metadata": {
      "needs_background": "light"
     },
     "output_type": "display_data"
    }
   ],
   "source": [
    "#import the libraries\n",
    "import numpy as np\n",
    "import pandas as pd\n",
    "import matplotlib.pyplot as plt\n",
    "%matplotlib inline\n",
    "\n",
    "#import the data and assigning X value\n",
    "\n",
    "df=pd.read_csv('C:\\\\Users\\\\Lenovo\\\\ML\\\\K_Mean\\\\K_Means-20190519T173739Z-001\\\\K_Means\\\\Mall_Customers.csv')\n",
    "df.head()\n",
    "X=df.iloc[:,[3,4]].values\n",
    "\n",
    "# finding value for number of clusters\n",
    "from sklearn.cluster import KMeans\n",
    "WCSS=[]\n",
    "for i in range(1,11):\n",
    "    kmeans=KMeans(n_clusters=i,init='k-means++',random_state=42)\n",
    "    kmeans.fit(X)\n",
    "    WCSS.append(kmeans.inertia_)\n",
    "plt.plot(range(1,11),WCSS)\n",
    "plt.title('The Elbow Method')\n",
    "plt.xlabel('Number of clusters')\n",
    "plt.ylabel('WCSS')\n",
    "plt.show()\n",
    "\n",
    "# Kmeans\n",
    "kmeans=KMeans(n_clusters=5,init='k-means++',random_state=42)\n",
    "y_kmeans=kmeans.fit_predict(X)"
   ]
  },
  {
   "cell_type": "code",
   "execution_count": 2,
   "metadata": {},
   "outputs": [
    {
     "name": "stdout",
     "output_type": "stream",
     "text": [
      "spending core for anuual income 34 in label2/cluster2 is [[22.78582303]]\n",
      "spending core for anuual income 34 in label2/cluster2 is [[78.06449418]]\n"
     ]
    }
   ],
   "source": [
    "# adding column in df(datafram) specifying cluster labels for record\n",
    "df['labels'] = kmeans.labels_\n",
    "df.labels.unique()\n",
    "\n",
    "# determing the label to which the Annualincome 34 belongs to\n",
    "df['Annual Income (k$)'].groupby(df.labels).describe()\n",
    "#value 34 falls in label 2,3 as 34 falls in min and max of label 2 and label 3\n",
    "\n",
    "#divding the df data with respecte to labels\n",
    "data1=df.groupby(df.labels)\n",
    "\n",
    "X0=data1.get_group(0).iloc[:,[3]].values\n",
    "X1=data1.get_group(1).iloc[:,[3]].values\n",
    "X2=data1.get_group(2).iloc[:,[3]].values\n",
    "X3=data1.get_group(3).iloc[:,[3]].values\n",
    "X4=data1.get_group(4).iloc[:,[3]].values\n",
    "Y0=data1.get_group(0).iloc[:,[4]].values\n",
    "Y1=data1.get_group(1).iloc[:,[4]].values\n",
    "Y2=data1.get_group(2).iloc[:,[4]].values\n",
    "Y3=data1.get_group(3).iloc[:,[4]].values\n",
    "Y4=data1.get_group(4).iloc[:,[4]].values\n",
    "\n",
    "#modeling for all the data\n",
    "from sklearn.linear_model import LinearRegression\n",
    "lm0 = LinearRegression()\n",
    "lm1 = LinearRegression()\n",
    "lm2 = LinearRegression()\n",
    "lm3 = LinearRegression()\n",
    "lm4 = LinearRegression()\n",
    "\n",
    "lm0.fit(X0,Y0)\n",
    "lm1.fit(X1,Y1)\n",
    "lm2.fit(X2,Y2)\n",
    "lm3.fit(X3,Y3)\n",
    "lm4.fit(X4,Y4)\n",
    "\n",
    "# spending score\n",
    "print('spending core for anuual income 34 in label2/cluster2 is',lm2.predict([[34]]))\n",
    "print('spending core for anuual income 34 in label2/cluster2 is',lm3.predict([[34]]))\n"
   ]
  },
  {
   "attachments": {},
   "cell_type": "markdown",
   "metadata": {},
   "source": [
    "Purity is a measure of the extent to which clusters contain a single class. Its calculation can be thought of as follows: For each cluster, count the number of data points from the most common class in said cluster. Now take the sum over all clusters and divide by the total number of data points. \n",
    "\n",
    "\n",
    "    \n",
    "Note that this measure doesn't penalize having many clusters. So for example, a purity score of 1 is possible by putting each data point in its own cluster. Also purity doesn't work well for imbalanced data: if a size 1000 dataset consists of two classes, one class contains 999 points and the other has only 1 point. No matter how bad a clustering algorithm performs, it will always give a very high purity value."
   ]
  },
  {
   "cell_type": "code",
   "execution_count": 4,
   "metadata": {},
   "outputs": [
    {
     "name": "stdout",
     "output_type": "stream",
     "text": [
      "purity score s 0.615\n"
     ]
    }
   ],
   "source": [
    "import numpy as np\n",
    "from sklearn import metrics\n",
    "\n",
    "# function to calculate purity\n",
    "def purity_score(y_true, y_pred):\n",
    "    # compute contingency matrix (also called confusion matrix)\n",
    "    contingency_matrix = metrics.cluster.contingency_matrix(y_true, y_pred)\n",
    "    # return purity\n",
    "    return np.sum(np.amax(contingency_matrix, axis=0)) / np.sum(contingency_matrix) \n",
    "\n",
    "# function to divide the data into differnt classes\n",
    "def SC_div(x):\n",
    "    if x>=75:\n",
    "        return 4\n",
    "    if  x>=50 and x < 75:\n",
    "        return 3\n",
    "    if x>=25 and x <50:\n",
    "        return 2\n",
    "    if x<25:\n",
    "        return 1\n",
    "SC_div(50)\n",
    "    \n",
    "# dividing the spending score columns into classes    \n",
    "df['SC_Class']=df['Spending Score (1-100)'].apply(SC_div)\n",
    "\n",
    "Y=df['SC_Class']\n",
    "\n",
    "#model\n",
    "kmeans1=KMeans(n_clusters=5,init='k-means++',random_state=42)\n",
    "y_kmeans1=kmeans1.fit_predict(X)\n",
    "\n",
    "# calculating purity score\n",
    "print('purity score s',purity_score(Y, y_kmeans1))"
   ]
  },
  {
   "cell_type": "code",
   "execution_count": null,
   "metadata": {},
   "outputs": [],
   "source": []
  }
 ],
 "metadata": {
  "kernelspec": {
   "display_name": "Python 3",
   "language": "python",
   "name": "python3"
  },
  "language_info": {
   "codemirror_mode": {
    "name": "ipython",
    "version": 3
   },
   "file_extension": ".py",
   "mimetype": "text/x-python",
   "name": "python",
   "nbconvert_exporter": "python",
   "pygments_lexer": "ipython3",
   "version": "3.7.1"
  }
 },
 "nbformat": 4,
 "nbformat_minor": 2
}
